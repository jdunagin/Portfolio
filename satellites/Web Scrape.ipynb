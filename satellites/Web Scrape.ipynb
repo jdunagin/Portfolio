{
 "cells": [
  {
   "cell_type": "markdown",
   "metadata": {},
   "source": [
    "# Web Scrape\n",
    "Here I will web scrape data as part of the larger data set"
   ]
  },
  {
   "cell_type": "code",
   "execution_count": 1,
   "metadata": {},
   "outputs": [],
   "source": [
    "# imports\n",
    "from bs4 import BeautifulSoup\n",
    "import pandas as pd\n",
    "import requests\n",
    "import numpy as np"
   ]
  },
  {
   "cell_type": "markdown",
   "metadata": {},
   "source": [
    "# Step 1 - Import the Data"
   ]
  },
  {
   "cell_type": "code",
   "execution_count": 2,
   "metadata": {},
   "outputs": [],
   "source": [
    "# get html file from website link\n",
    "URL = 'https://www.satellite-calculations.com/Satellite/satellitelist.php'\n",
    "response = requests.get(URL)\n",
    "soup = BeautifulSoup(response.text, 'html')"
   ]
  },
  {
   "cell_type": "code",
   "execution_count": 3,
   "metadata": {},
   "outputs": [
    {
     "data": {
      "text/plain": [
       "2145"
      ]
     },
     "execution_count": 3,
     "metadata": {},
     "output_type": "execute_result"
    }
   ],
   "source": [
    "# find the sortable table - this contains our data\n",
    "table = soup.find('table', {'class': 'sortable'})\n",
    "len(table)"
   ]
  },
  {
   "cell_type": "code",
   "execution_count": 4,
   "metadata": {},
   "outputs": [],
   "source": [
    "# look at headers\n",
    "headers = table.find_all('th')"
   ]
  },
  {
   "cell_type": "code",
   "execution_count": 5,
   "metadata": {},
   "outputs": [],
   "source": [
    "# this will turn the header contents into a usable column name\n",
    "def contents_to_title(contents):\n",
    "    string = ''\n",
    "    for i in contents:\n",
    "        word = str(i)\n",
    "        if word[0] != '<':\n",
    "            string += word + ' '\n",
    "        \n",
    "    return string[:-1]"
   ]
  },
  {
   "cell_type": "code",
   "execution_count": 6,
   "metadata": {},
   "outputs": [
    {
     "data": {
      "text/plain": [
       "24"
      ]
     },
     "execution_count": 6,
     "metadata": {},
     "output_type": "execute_result"
    }
   ],
   "source": [
    "# create my list of column names\n",
    "columns = []\n",
    "for h in headers:\n",
    "    contents = h.contents[0].contents\n",
    "    c = contents_to_title(contents)\n",
    "    columns.append(c)\n",
    "    \n",
    "len(columns)"
   ]
  },
  {
   "cell_type": "code",
   "execution_count": 7,
   "metadata": {},
   "outputs": [
    {
     "data": {
      "text/plain": [
       "1071"
      ]
     },
     "execution_count": 7,
     "metadata": {},
     "output_type": "execute_result"
    }
   ],
   "source": [
    "# the secret sauce\n",
    "# some rows have different structure, so this function has different options for how to parse them\n",
    "def get_vals(td):\n",
    "    \n",
    "    values = []\n",
    "    count = 0\n",
    "    for t in td:\n",
    "        if count == 12:\n",
    "            values.append(t.contents[0].contents[1])\n",
    "            count += 1\n",
    "            continue\n",
    "        count += 1\n",
    "        try:\n",
    "            values.append(t.contents[0].find('a').contents[0])\n",
    "        except AttributeError:\n",
    "            try:\n",
    "                values.append(t.contents[1].find('a')['name'])\n",
    "            except IndexError:\n",
    "                try:\n",
    "                    values.append(t.contents[0].contents[0])\n",
    "                except IndexError:\n",
    "                    continue\n",
    "    \n",
    "    return values\n",
    "\n",
    "\n",
    "# get rows now\n",
    "rows = table.find_all('tr')\n",
    "rows = rows[1:]\n",
    "\n",
    "row_list = []\n",
    "for r in rows:\n",
    "    td = r.find_all('td')\n",
    "    vals = get_vals(td)\n",
    "    row_list.append(vals)\n",
    "    \n",
    "len(row_list)"
   ]
  },
  {
   "cell_type": "code",
   "execution_count": 8,
   "metadata": {},
   "outputs": [
    {
     "data": {
      "text/plain": [
       "(1071, 24)"
      ]
     },
     "execution_count": 8,
     "metadata": {},
     "output_type": "execute_result"
    }
   ],
   "source": [
    "# let's make a data frame\n",
    "sat_df = pd.DataFrame(row_list, columns=columns )\n",
    "sat_df.shape"
   ]
  },
  {
   "cell_type": "code",
   "execution_count": 9,
   "metadata": {},
   "outputs": [
    {
     "data": {
      "text/html": [
       "<div>\n",
       "<style scoped>\n",
       "    .dataframe tbody tr th:only-of-type {\n",
       "        vertical-align: middle;\n",
       "    }\n",
       "\n",
       "    .dataframe tbody tr th {\n",
       "        vertical-align: top;\n",
       "    }\n",
       "\n",
       "    .dataframe thead th {\n",
       "        text-align: right;\n",
       "    }\n",
       "</style>\n",
       "<table border=\"1\" class=\"dataframe\">\n",
       "  <thead>\n",
       "    <tr style=\"text-align: right;\">\n",
       "      <th></th>\n",
       "      <th>Current Sat Longitude</th>\n",
       "      <th>Sat Name</th>\n",
       "      <th>SatCat</th>\n",
       "      <th>Launch date</th>\n",
       "      <th>TLE Source</th>\n",
       "      <th>Site</th>\n",
       "      <th>Org</th>\n",
       "      <th>Op</th>\n",
       "      <th>Current Lat</th>\n",
       "      <th>Lat drift 10 minutes</th>\n",
       "      <th>...</th>\n",
       "      <th>E/W Lon Osc (Incl)</th>\n",
       "      <th>E/W Lon Osc (Ecc)</th>\n",
       "      <th>Apogee[km]</th>\n",
       "      <th>Perigee[km]</th>\n",
       "      <th>Altitude [km]</th>\n",
       "      <th>Epoch</th>\n",
       "      <th>Time of calculation</th>\n",
       "      <th>Time since Epoch</th>\n",
       "      <th>ID</th>\n",
       "      <th>Satellite Period [hh:mm:ss]</th>\n",
       "    </tr>\n",
       "  </thead>\n",
       "  <tbody>\n",
       "    <tr>\n",
       "      <th>0</th>\n",
       "      <td>179.9720°E</td>\n",
       "      <td>INTELSAT 18 (IS-18)</td>\n",
       "      <td>37834</td>\n",
       "      <td>2011-10-05</td>\n",
       "      <td>CEL</td>\n",
       "      <td>TYMSC</td>\n",
       "      <td>ITSO</td>\n",
       "      <td>+</td>\n",
       "      <td>-0.0207°S</td>\n",
       "      <td>0.000°N</td>\n",
       "      <td>...</td>\n",
       "      <td>0.0000°</td>\n",
       "      <td>0.0198°</td>\n",
       "      <td>35796</td>\n",
       "      <td>35781</td>\n",
       "      <td>35786</td>\n",
       "      <td>2023-04-20 00:00:00 UTC</td>\n",
       "      <td>2023-04-21 17:20:55 UTC</td>\n",
       "      <td>T=01.72</td>\n",
       "      <td>2011-056A</td>\n",
       "      <td>23:56:08.47</td>\n",
       "    </tr>\n",
       "    <tr>\n",
       "      <th>1</th>\n",
       "      <td>179.5798°E</td>\n",
       "      <td>INMARSAT 5-F3</td>\n",
       "      <td>40882</td>\n",
       "      <td>2015-08-28</td>\n",
       "      <td>CEL</td>\n",
       "      <td>TYMSC</td>\n",
       "      <td>IM</td>\n",
       "      <td>+</td>\n",
       "      <td>0.0286°N</td>\n",
       "      <td>0.001°N</td>\n",
       "      <td>...</td>\n",
       "      <td>0.0000°</td>\n",
       "      <td>0.0030°</td>\n",
       "      <td>35790</td>\n",
       "      <td>35787</td>\n",
       "      <td>35788</td>\n",
       "      <td>2023-04-20 14:54:20 UTC</td>\n",
       "      <td>2023-04-21 17:20:55 UTC</td>\n",
       "      <td>T=01.10</td>\n",
       "      <td>2015-042A</td>\n",
       "      <td>23:56:09.07</td>\n",
       "    </tr>\n",
       "    <tr>\n",
       "      <th>2</th>\n",
       "      <td>179.4772°E</td>\n",
       "      <td>SL-12 R/B(2)</td>\n",
       "      <td>26101</td>\n",
       "      <td>2000-03-12</td>\n",
       "      <td>CEL</td>\n",
       "      <td>TYMSC</td>\n",
       "      <td>CIS</td>\n",
       "      <td></td>\n",
       "      <td>-13.8664°S</td>\n",
       "      <td>0.117°N</td>\n",
       "      <td>...</td>\n",
       "      <td>0.8638°</td>\n",
       "      <td>0.1292°</td>\n",
       "      <td>35701</td>\n",
       "      <td>35606</td>\n",
       "      <td>35688</td>\n",
       "      <td>2023-04-20 11:08:43 UTC</td>\n",
       "      <td>2023-04-21 17:20:55 UTC</td>\n",
       "      <td>T=01.26</td>\n",
       "      <td>2000-013D</td>\n",
       "      <td>23:49:15.57</td>\n",
       "    </tr>\n",
       "    <tr>\n",
       "      <th>3</th>\n",
       "      <td>178.5444°E</td>\n",
       "      <td>TJS-6</td>\n",
       "      <td>47613</td>\n",
       "      <td>2021-02-04</td>\n",
       "      <td>CEL</td>\n",
       "      <td>XICLF</td>\n",
       "      <td>PRC</td>\n",
       "      <td>+</td>\n",
       "      <td>-0.0897°S</td>\n",
       "      <td>0.003°S</td>\n",
       "      <td>...</td>\n",
       "      <td>0.0001°</td>\n",
       "      <td>0.0267°</td>\n",
       "      <td>35797</td>\n",
       "      <td>35777</td>\n",
       "      <td>35790</td>\n",
       "      <td>2023-04-17 14:55:20 UTC</td>\n",
       "      <td>2023-04-21 17:20:55 UTC</td>\n",
       "      <td>T=04.10</td>\n",
       "      <td>2021-010A</td>\n",
       "      <td>23:56:04.72</td>\n",
       "    </tr>\n",
       "    <tr>\n",
       "      <th>4</th>\n",
       "      <td>178.3432°E</td>\n",
       "      <td>ATS 1</td>\n",
       "      <td>2608</td>\n",
       "      <td>1966-12-07</td>\n",
       "      <td>CEL</td>\n",
       "      <td>AFETR</td>\n",
       "      <td>US</td>\n",
       "      <td>-</td>\n",
       "      <td>-1.0645°S</td>\n",
       "      <td>0.076°S</td>\n",
       "      <td>...</td>\n",
       "      <td>0.0190°</td>\n",
       "      <td>0.0338°</td>\n",
       "      <td>35790</td>\n",
       "      <td>35765</td>\n",
       "      <td>35771</td>\n",
       "      <td>2023-04-20 20:01:46 UTC</td>\n",
       "      <td>2023-04-21 17:20:55 UTC</td>\n",
       "      <td>T=00.89</td>\n",
       "      <td>1966-110A</td>\n",
       "      <td>23:55:33.84</td>\n",
       "    </tr>\n",
       "  </tbody>\n",
       "</table>\n",
       "<p>5 rows × 24 columns</p>\n",
       "</div>"
      ],
      "text/plain": [
       "  Current Sat Longitude             Sat Name SatCat Launch date TLE Source   \n",
       "0            179.9720°E  INTELSAT 18 (IS-18)  37834  2011-10-05        CEL  \\\n",
       "1            179.5798°E        INMARSAT 5-F3  40882  2015-08-28        CEL   \n",
       "2            179.4772°E         SL-12 R/B(2)  26101  2000-03-12        CEL   \n",
       "3            178.5444°E                TJS-6  47613  2021-02-04        CEL   \n",
       "4            178.3432°E                ATS 1   2608  1966-12-07        CEL   \n",
       "\n",
       "    Site   Org Op  Current Lat Lat drift 10 minutes  ... E/W Lon Osc (Incl)   \n",
       "0  TYMSC  ITSO  +    -0.0207°S              0.000°N  ...            0.0000°  \\\n",
       "1  TYMSC    IM  +     0.0286°N              0.001°N  ...            0.0000°   \n",
       "2  TYMSC   CIS      -13.8664°S              0.117°N  ...            0.8638°   \n",
       "3  XICLF   PRC  +    -0.0897°S              0.003°S  ...            0.0001°   \n",
       "4  AFETR    US  -    -1.0645°S              0.076°S  ...            0.0190°   \n",
       "\n",
       "  E/W Lon Osc (Ecc) Apogee[km] Perigee[km] Altitude [km]   \n",
       "0           0.0198°      35796       35781         35786  \\\n",
       "1           0.0030°      35790       35787         35788   \n",
       "2           0.1292°      35701       35606         35688   \n",
       "3           0.0267°      35797       35777         35790   \n",
       "4           0.0338°      35790       35765         35771   \n",
       "\n",
       "                     Epoch      Time of calculation Time since Epoch   \n",
       "0  2023-04-20 00:00:00 UTC  2023-04-21 17:20:55 UTC          T=01.72  \\\n",
       "1  2023-04-20 14:54:20 UTC  2023-04-21 17:20:55 UTC          T=01.10   \n",
       "2  2023-04-20 11:08:43 UTC  2023-04-21 17:20:55 UTC          T=01.26   \n",
       "3  2023-04-17 14:55:20 UTC  2023-04-21 17:20:55 UTC          T=04.10   \n",
       "4  2023-04-20 20:01:46 UTC  2023-04-21 17:20:55 UTC          T=00.89   \n",
       "\n",
       "            ID Satellite Period [hh:mm:ss]  \n",
       "0  2011-056A                   23:56:08.47  \n",
       "1  2015-042A                   23:56:09.07  \n",
       "2  2000-013D                   23:49:15.57  \n",
       "3  2021-010A                   23:56:04.72  \n",
       "4  1966-110A                   23:55:33.84  \n",
       "\n",
       "[5 rows x 24 columns]"
      ]
     },
     "execution_count": 9,
     "metadata": {},
     "output_type": "execute_result"
    }
   ],
   "source": [
    "sat_df.head()"
   ]
  },
  {
   "cell_type": "markdown",
   "metadata": {},
   "source": [
    "To be honest, that part was the bulk of the work and the data looks pretty nice right now. Everything I do after this will likely be minor and not too consequential, or necessary."
   ]
  },
  {
   "cell_type": "markdown",
   "metadata": {},
   "source": [
    "# Step 2\n",
    "\n",
    "I notice that the 'SatCat' column here is the same thing as 'NORAD Number' in my other data set. In the interest of easier merging, I'm going to rename the column."
   ]
  },
  {
   "cell_type": "code",
   "execution_count": 10,
   "metadata": {},
   "outputs": [],
   "source": [
    "sat_df.rename(columns={'SatCat':'NORAD Number'}, inplace=True)"
   ]
  },
  {
   "cell_type": "markdown",
   "metadata": {},
   "source": [
    "# Step 3\n",
    "\n",
    "We can sort by satllite longitude, to get an idea of where they are relative to each other"
   ]
  },
  {
   "cell_type": "code",
   "execution_count": 11,
   "metadata": {},
   "outputs": [
    {
     "data": {
      "text/html": [
       "<div>\n",
       "<style scoped>\n",
       "    .dataframe tbody tr th:only-of-type {\n",
       "        vertical-align: middle;\n",
       "    }\n",
       "\n",
       "    .dataframe tbody tr th {\n",
       "        vertical-align: top;\n",
       "    }\n",
       "\n",
       "    .dataframe thead th {\n",
       "        text-align: right;\n",
       "    }\n",
       "</style>\n",
       "<table border=\"1\" class=\"dataframe\">\n",
       "  <thead>\n",
       "    <tr style=\"text-align: right;\">\n",
       "      <th></th>\n",
       "      <th>Current Sat Longitude</th>\n",
       "      <th>Sat Name</th>\n",
       "      <th>NORAD Number</th>\n",
       "      <th>Launch date</th>\n",
       "      <th>TLE Source</th>\n",
       "      <th>Site</th>\n",
       "      <th>Org</th>\n",
       "      <th>Op</th>\n",
       "      <th>Current Lat</th>\n",
       "      <th>Lat drift 10 minutes</th>\n",
       "      <th>...</th>\n",
       "      <th>E/W Lon Osc (Incl)</th>\n",
       "      <th>E/W Lon Osc (Ecc)</th>\n",
       "      <th>Apogee[km]</th>\n",
       "      <th>Perigee[km]</th>\n",
       "      <th>Altitude [km]</th>\n",
       "      <th>Epoch</th>\n",
       "      <th>Time of calculation</th>\n",
       "      <th>Time since Epoch</th>\n",
       "      <th>ID</th>\n",
       "      <th>Satellite Period [hh:mm:ss]</th>\n",
       "    </tr>\n",
       "  </thead>\n",
       "  <tbody>\n",
       "    <tr>\n",
       "      <th>646</th>\n",
       "      <td>0.3424°W</td>\n",
       "      <td>METEOSAT-10 (MSG3)</td>\n",
       "      <td>38552</td>\n",
       "      <td>2012-07-05</td>\n",
       "      <td>CEL</td>\n",
       "      <td>FRGUI</td>\n",
       "      <td>EUME</td>\n",
       "      <td>+</td>\n",
       "      <td>1.6814°N</td>\n",
       "      <td>0.049°N</td>\n",
       "      <td>...</td>\n",
       "      <td>0.0184°</td>\n",
       "      <td>0.0038°</td>\n",
       "      <td>35789</td>\n",
       "      <td>35786</td>\n",
       "      <td>35786</td>\n",
       "      <td>2023-04-17 00:00:00 UTC</td>\n",
       "      <td>2023-04-21 17:20:55 UTC</td>\n",
       "      <td>T=04.72</td>\n",
       "      <td>2012-035B</td>\n",
       "      <td>23:56:06.88</td>\n",
       "    </tr>\n",
       "    <tr>\n",
       "      <th>645</th>\n",
       "      <td>0.4799°E</td>\n",
       "      <td>EUTELSAT HOTBIRD 13F</td>\n",
       "      <td>54048</td>\n",
       "      <td>2022-10-15</td>\n",
       "      <td>CEL</td>\n",
       "      <td>AFETR</td>\n",
       "      <td>EUTE</td>\n",
       "      <td>+</td>\n",
       "      <td>-0.0095°S</td>\n",
       "      <td>0.003°S</td>\n",
       "      <td>...</td>\n",
       "      <td>0.0000°</td>\n",
       "      <td>0.0182°</td>\n",
       "      <td>35795</td>\n",
       "      <td>35781</td>\n",
       "      <td>35790</td>\n",
       "      <td>2023-04-20 20:54:07 UTC</td>\n",
       "      <td>2023-04-21 17:20:55 UTC</td>\n",
       "      <td>T=00.85</td>\n",
       "      <td>2022-134A</td>\n",
       "      <td>23:56:06.91</td>\n",
       "    </tr>\n",
       "    <tr>\n",
       "      <th>647</th>\n",
       "      <td>0.6335°W</td>\n",
       "      <td>THOR 7</td>\n",
       "      <td>40613</td>\n",
       "      <td>2015-04-26</td>\n",
       "      <td>CEL</td>\n",
       "      <td>FRGUI</td>\n",
       "      <td>NOR</td>\n",
       "      <td>+</td>\n",
       "      <td>-0.0080°S</td>\n",
       "      <td>0.001°N</td>\n",
       "      <td>...</td>\n",
       "      <td>0.0000°</td>\n",
       "      <td>0.0298°</td>\n",
       "      <td>35799</td>\n",
       "      <td>35777</td>\n",
       "      <td>35785</td>\n",
       "      <td>2023-04-21 00:20:13 UTC</td>\n",
       "      <td>2023-04-21 17:20:55 UTC</td>\n",
       "      <td>T=00.71</td>\n",
       "      <td>2015-022A</td>\n",
       "      <td>23:56:06.52</td>\n",
       "    </tr>\n",
       "    <tr>\n",
       "      <th>648</th>\n",
       "      <td>0.7310°W</td>\n",
       "      <td>THOR 5</td>\n",
       "      <td>32487</td>\n",
       "      <td>2008-02-11</td>\n",
       "      <td>CEL</td>\n",
       "      <td>TYMSC</td>\n",
       "      <td>NOR</td>\n",
       "      <td>+</td>\n",
       "      <td>-0.0266°S</td>\n",
       "      <td>0.001°S</td>\n",
       "      <td>...</td>\n",
       "      <td>0.0000°</td>\n",
       "      <td>0.0282°</td>\n",
       "      <td>35798</td>\n",
       "      <td>35778</td>\n",
       "      <td>35784</td>\n",
       "      <td>2023-04-20 20:53:44 UTC</td>\n",
       "      <td>2023-04-21 17:20:55 UTC</td>\n",
       "      <td>T=00.85</td>\n",
       "      <td>2008-006A</td>\n",
       "      <td>23:56:07.16</td>\n",
       "    </tr>\n",
       "    <tr>\n",
       "      <th>649</th>\n",
       "      <td>0.8244°W</td>\n",
       "      <td>THOR 6</td>\n",
       "      <td>36033</td>\n",
       "      <td>2009-10-29</td>\n",
       "      <td>CEL</td>\n",
       "      <td>FRGUI</td>\n",
       "      <td>NOR</td>\n",
       "      <td>+</td>\n",
       "      <td>-0.0192°S</td>\n",
       "      <td>0.000°S</td>\n",
       "      <td>...</td>\n",
       "      <td>0.0000°</td>\n",
       "      <td>0.0264°</td>\n",
       "      <td>35797</td>\n",
       "      <td>35778</td>\n",
       "      <td>35779</td>\n",
       "      <td>2023-04-20 20:53:44 UTC</td>\n",
       "      <td>2023-04-21 17:20:55 UTC</td>\n",
       "      <td>T=00.85</td>\n",
       "      <td>2009-058B</td>\n",
       "      <td>23:56:05.60</td>\n",
       "    </tr>\n",
       "  </tbody>\n",
       "</table>\n",
       "<p>5 rows × 24 columns</p>\n",
       "</div>"
      ],
      "text/plain": [
       "    Current Sat Longitude              Sat Name NORAD Number Launch date   \n",
       "646              0.3424°W    METEOSAT-10 (MSG3)        38552  2012-07-05  \\\n",
       "645              0.4799°E  EUTELSAT HOTBIRD 13F        54048  2022-10-15   \n",
       "647              0.6335°W                THOR 7        40613  2015-04-26   \n",
       "648              0.7310°W                THOR 5        32487  2008-02-11   \n",
       "649              0.8244°W                THOR 6        36033  2009-10-29   \n",
       "\n",
       "    TLE Source   Site   Org Op  Current Lat Lat drift 10 minutes  ...   \n",
       "646        CEL  FRGUI  EUME  +     1.6814°N              0.049°N  ...  \\\n",
       "645        CEL  AFETR  EUTE  +    -0.0095°S              0.003°S  ...   \n",
       "647        CEL  FRGUI   NOR  +    -0.0080°S              0.001°N  ...   \n",
       "648        CEL  TYMSC   NOR  +    -0.0266°S              0.001°S  ...   \n",
       "649        CEL  FRGUI   NOR  +    -0.0192°S              0.000°S  ...   \n",
       "\n",
       "    E/W Lon Osc (Incl) E/W Lon Osc (Ecc) Apogee[km] Perigee[km] Altitude [km]   \n",
       "646            0.0184°           0.0038°      35789       35786         35786  \\\n",
       "645            0.0000°           0.0182°      35795       35781         35790   \n",
       "647            0.0000°           0.0298°      35799       35777         35785   \n",
       "648            0.0000°           0.0282°      35798       35778         35784   \n",
       "649            0.0000°           0.0264°      35797       35778         35779   \n",
       "\n",
       "                       Epoch      Time of calculation Time since Epoch   \n",
       "646  2023-04-17 00:00:00 UTC  2023-04-21 17:20:55 UTC          T=04.72  \\\n",
       "645  2023-04-20 20:54:07 UTC  2023-04-21 17:20:55 UTC          T=00.85   \n",
       "647  2023-04-21 00:20:13 UTC  2023-04-21 17:20:55 UTC          T=00.71   \n",
       "648  2023-04-20 20:53:44 UTC  2023-04-21 17:20:55 UTC          T=00.85   \n",
       "649  2023-04-20 20:53:44 UTC  2023-04-21 17:20:55 UTC          T=00.85   \n",
       "\n",
       "              ID Satellite Period [hh:mm:ss]  \n",
       "646  2012-035B                   23:56:06.88  \n",
       "645  2022-134A                   23:56:06.91  \n",
       "647  2015-022A                   23:56:06.52  \n",
       "648  2008-006A                   23:56:07.16  \n",
       "649  2009-058B                   23:56:05.60  \n",
       "\n",
       "[5 rows x 24 columns]"
      ]
     },
     "execution_count": 11,
     "metadata": {},
     "output_type": "execute_result"
    }
   ],
   "source": [
    "sat_df.sort_values('Current Sat Longitude', inplace=True)\n",
    "sat_df.head()"
   ]
  },
  {
   "cell_type": "markdown",
   "metadata": {},
   "source": [
    "# Step 4\n",
    "\n",
    "I guess we can look at nulls again."
   ]
  },
  {
   "cell_type": "code",
   "execution_count": 12,
   "metadata": {},
   "outputs": [
    {
     "name": "stdout",
     "output_type": "stream",
     "text": [
      "Current Sat Longitude 0\n",
      "Sat Name 0\n",
      "NORAD Number 0\n",
      "Launch date 0\n",
      "TLE Source 0\n",
      "Site 0\n",
      "Org 0\n",
      "Op 0\n",
      "Current Lat 0\n",
      "Lat drift 10 minutes 0\n",
      "Lon drift 10 minutes 0\n",
      "Longitude at Epoch 0\n",
      "Lon Driftrate [deg pr.day] 0\n",
      "Inclination 0\n",
      "E/W Lon Osc (Incl) 0\n",
      "E/W Lon Osc (Ecc) 0\n",
      "Apogee[km] 0\n",
      "Perigee[km] 0\n",
      "Altitude [km] 0\n",
      "Epoch 3\n",
      "Time of calculation 3\n",
      "Time since Epoch 3\n",
      "ID 3\n",
      "Satellite Period [hh:mm:ss] 3\n"
     ]
    }
   ],
   "source": [
    "for column in sat_df:\n",
    "    print(column, len(sat_df[column][sat_df[column].isnull()]))"
   ]
  },
  {
   "cell_type": "markdown",
   "metadata": {},
   "source": [
    "Very good, not many nulls here. The only information contained in the first three of those columns is how updated the data is. The ID is just another identifier. The satellite period is actually contained in some of the other variables, and is a bit redundant.\n",
    "\n",
    "For those reasons, I will remove the columns with nulls, except ID. ID can be used as a way to match across data sets, potentially."
   ]
  },
  {
   "cell_type": "code",
   "execution_count": 13,
   "metadata": {},
   "outputs": [],
   "source": [
    "removes = ['Epoch', 'Time of calculation', 'Time since Epoch', 'Satellite Period [hh:mm:ss]']\n",
    "sat_df.drop(columns=removes, inplace=True)"
   ]
  },
  {
   "cell_type": "markdown",
   "metadata": {},
   "source": [
    "# Step 5\n",
    "\n",
    "Convert time to datetime"
   ]
  },
  {
   "cell_type": "code",
   "execution_count": 14,
   "metadata": {},
   "outputs": [],
   "source": [
    "from datetime import datetime"
   ]
  },
  {
   "cell_type": "code",
   "execution_count": 15,
   "metadata": {},
   "outputs": [],
   "source": [
    "# make a function to account for error\n",
    "def to_datetime(time):\n",
    "    try:\n",
    "        return datetime.strptime(time, '%Y-%m-%d')\n",
    "    \n",
    "    except ValueError: # this only occurs when we get a value of 'CEL', so we can just return that\n",
    "            return(time) # value back"
   ]
  },
  {
   "cell_type": "code",
   "execution_count": 16,
   "metadata": {},
   "outputs": [],
   "source": [
    "sat_df['Launch date'] = sat_df['Launch date'].apply(to_datetime)"
   ]
  },
  {
   "cell_type": "markdown",
   "metadata": {},
   "source": [
    "There we have it! Another clean data set."
   ]
  }
 ],
 "metadata": {
  "kernelspec": {
   "display_name": "Python 3",
   "language": "python",
   "name": "python3"
  },
  "language_info": {
   "codemirror_mode": {
    "name": "ipython",
    "version": 3
   },
   "file_extension": ".py",
   "mimetype": "text/x-python",
   "name": "python",
   "nbconvert_exporter": "python",
   "pygments_lexer": "ipython3",
   "version": "3.8.5"
  }
 },
 "nbformat": 4,
 "nbformat_minor": 4
}
