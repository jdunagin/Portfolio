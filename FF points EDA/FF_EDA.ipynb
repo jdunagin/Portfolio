{
 "cells": [
  {
   "cell_type": "markdown",
   "metadata": {},
   "source": [
    "# Fantasy Football EDA"
   ]
  },
  {
   "cell_type": "markdown",
   "metadata": {},
   "source": [
    "# Introduction\n",
    "\n",
    "The goal of this project will be to analyze fantasy football data. Specifically, we will look at running back data from the 2021 NFL season. The motivation is that running back is the most valuable position in fantasy football, and we want to look at what makes them successful. How are their statistics distributed? What variables are related to their success? What are the best predictors? We will explore questions of this nature as we dig into the data."
   ]
  },
  {
   "cell_type": "code",
   "execution_count": 1,
   "metadata": {},
   "outputs": [],
   "source": [
    "import numpy as np\n",
    "import pandas as pd\n",
    "import matplotlib.pyplot as plt\n",
    "from sklearn.linear_model import LinearRegression\n",
    "from scipy import stats"
   ]
  },
  {
   "cell_type": "code",
   "execution_count": 2,
   "metadata": {},
   "outputs": [
    {
     "ename": "FileNotFoundError",
     "evalue": "[Errno 2] No such file or directory: 'data/nfl_pass_rush_receive_raw_data.csv'",
     "output_type": "error",
     "traceback": [
      "\u001b[1;31m---------------------------------------------------------------------------\u001b[0m",
      "\u001b[1;31mFileNotFoundError\u001b[0m                         Traceback (most recent call last)",
      "\u001b[1;32m<ipython-input-2-9ca15300ae9c>\u001b[0m in \u001b[0;36m<module>\u001b[1;34m\u001b[0m\n\u001b[1;32m----> 1\u001b[1;33m \u001b[0mplayers_df\u001b[0m \u001b[1;33m=\u001b[0m \u001b[0mpd\u001b[0m\u001b[1;33m.\u001b[0m\u001b[0mread_csv\u001b[0m\u001b[1;33m(\u001b[0m\u001b[1;34m'data/nfl_pass_rush_receive_raw_data.csv'\u001b[0m\u001b[1;33m)\u001b[0m\u001b[1;33m\u001b[0m\u001b[1;33m\u001b[0m\u001b[0m\n\u001b[0m",
      "\u001b[1;32m~\\anaconda3\\lib\\site-packages\\pandas\\util\\_decorators.py\u001b[0m in \u001b[0;36mwrapper\u001b[1;34m(*args, **kwargs)\u001b[0m\n\u001b[0;32m    209\u001b[0m                 \u001b[1;32melse\u001b[0m\u001b[1;33m:\u001b[0m\u001b[1;33m\u001b[0m\u001b[1;33m\u001b[0m\u001b[0m\n\u001b[0;32m    210\u001b[0m                     \u001b[0mkwargs\u001b[0m\u001b[1;33m[\u001b[0m\u001b[0mnew_arg_name\u001b[0m\u001b[1;33m]\u001b[0m \u001b[1;33m=\u001b[0m \u001b[0mnew_arg_value\u001b[0m\u001b[1;33m\u001b[0m\u001b[1;33m\u001b[0m\u001b[0m\n\u001b[1;32m--> 211\u001b[1;33m             \u001b[1;32mreturn\u001b[0m \u001b[0mfunc\u001b[0m\u001b[1;33m(\u001b[0m\u001b[1;33m*\u001b[0m\u001b[0margs\u001b[0m\u001b[1;33m,\u001b[0m \u001b[1;33m**\u001b[0m\u001b[0mkwargs\u001b[0m\u001b[1;33m)\u001b[0m\u001b[1;33m\u001b[0m\u001b[1;33m\u001b[0m\u001b[0m\n\u001b[0m\u001b[0;32m    212\u001b[0m \u001b[1;33m\u001b[0m\u001b[0m\n\u001b[0;32m    213\u001b[0m         \u001b[1;32mreturn\u001b[0m \u001b[0mcast\u001b[0m\u001b[1;33m(\u001b[0m\u001b[0mF\u001b[0m\u001b[1;33m,\u001b[0m \u001b[0mwrapper\u001b[0m\u001b[1;33m)\u001b[0m\u001b[1;33m\u001b[0m\u001b[1;33m\u001b[0m\u001b[0m\n",
      "\u001b[1;32m~\\anaconda3\\lib\\site-packages\\pandas\\util\\_decorators.py\u001b[0m in \u001b[0;36mwrapper\u001b[1;34m(*args, **kwargs)\u001b[0m\n\u001b[0;32m    329\u001b[0m                     \u001b[0mstacklevel\u001b[0m\u001b[1;33m=\u001b[0m\u001b[0mfind_stack_level\u001b[0m\u001b[1;33m(\u001b[0m\u001b[1;33m)\u001b[0m\u001b[1;33m,\u001b[0m\u001b[1;33m\u001b[0m\u001b[1;33m\u001b[0m\u001b[0m\n\u001b[0;32m    330\u001b[0m                 )\n\u001b[1;32m--> 331\u001b[1;33m             \u001b[1;32mreturn\u001b[0m \u001b[0mfunc\u001b[0m\u001b[1;33m(\u001b[0m\u001b[1;33m*\u001b[0m\u001b[0margs\u001b[0m\u001b[1;33m,\u001b[0m \u001b[1;33m**\u001b[0m\u001b[0mkwargs\u001b[0m\u001b[1;33m)\u001b[0m\u001b[1;33m\u001b[0m\u001b[1;33m\u001b[0m\u001b[0m\n\u001b[0m\u001b[0;32m    332\u001b[0m \u001b[1;33m\u001b[0m\u001b[0m\n\u001b[0;32m    333\u001b[0m         \u001b[1;31m# error: \"Callable[[VarArg(Any), KwArg(Any)], Any]\" has no\u001b[0m\u001b[1;33m\u001b[0m\u001b[1;33m\u001b[0m\u001b[1;33m\u001b[0m\u001b[0m\n",
      "\u001b[1;32m~\\anaconda3\\lib\\site-packages\\pandas\\io\\parsers\\readers.py\u001b[0m in \u001b[0;36mread_csv\u001b[1;34m(filepath_or_buffer, sep, delimiter, header, names, index_col, usecols, squeeze, prefix, mangle_dupe_cols, dtype, engine, converters, true_values, false_values, skipinitialspace, skiprows, skipfooter, nrows, na_values, keep_default_na, na_filter, verbose, skip_blank_lines, parse_dates, infer_datetime_format, keep_date_col, date_parser, dayfirst, cache_dates, iterator, chunksize, compression, thousands, decimal, lineterminator, quotechar, quoting, doublequote, escapechar, comment, encoding, encoding_errors, dialect, error_bad_lines, warn_bad_lines, on_bad_lines, delim_whitespace, low_memory, memory_map, float_precision, storage_options)\u001b[0m\n\u001b[0;32m    948\u001b[0m     \u001b[0mkwds\u001b[0m\u001b[1;33m.\u001b[0m\u001b[0mupdate\u001b[0m\u001b[1;33m(\u001b[0m\u001b[0mkwds_defaults\u001b[0m\u001b[1;33m)\u001b[0m\u001b[1;33m\u001b[0m\u001b[1;33m\u001b[0m\u001b[0m\n\u001b[0;32m    949\u001b[0m \u001b[1;33m\u001b[0m\u001b[0m\n\u001b[1;32m--> 950\u001b[1;33m     \u001b[1;32mreturn\u001b[0m \u001b[0m_read\u001b[0m\u001b[1;33m(\u001b[0m\u001b[0mfilepath_or_buffer\u001b[0m\u001b[1;33m,\u001b[0m \u001b[0mkwds\u001b[0m\u001b[1;33m)\u001b[0m\u001b[1;33m\u001b[0m\u001b[1;33m\u001b[0m\u001b[0m\n\u001b[0m\u001b[0;32m    951\u001b[0m \u001b[1;33m\u001b[0m\u001b[0m\n\u001b[0;32m    952\u001b[0m \u001b[1;33m\u001b[0m\u001b[0m\n",
      "\u001b[1;32m~\\anaconda3\\lib\\site-packages\\pandas\\io\\parsers\\readers.py\u001b[0m in \u001b[0;36m_read\u001b[1;34m(filepath_or_buffer, kwds)\u001b[0m\n\u001b[0;32m    603\u001b[0m \u001b[1;33m\u001b[0m\u001b[0m\n\u001b[0;32m    604\u001b[0m     \u001b[1;31m# Create the parser.\u001b[0m\u001b[1;33m\u001b[0m\u001b[1;33m\u001b[0m\u001b[1;33m\u001b[0m\u001b[0m\n\u001b[1;32m--> 605\u001b[1;33m     \u001b[0mparser\u001b[0m \u001b[1;33m=\u001b[0m \u001b[0mTextFileReader\u001b[0m\u001b[1;33m(\u001b[0m\u001b[0mfilepath_or_buffer\u001b[0m\u001b[1;33m,\u001b[0m \u001b[1;33m**\u001b[0m\u001b[0mkwds\u001b[0m\u001b[1;33m)\u001b[0m\u001b[1;33m\u001b[0m\u001b[1;33m\u001b[0m\u001b[0m\n\u001b[0m\u001b[0;32m    606\u001b[0m \u001b[1;33m\u001b[0m\u001b[0m\n\u001b[0;32m    607\u001b[0m     \u001b[1;32mif\u001b[0m \u001b[0mchunksize\u001b[0m \u001b[1;32mor\u001b[0m \u001b[0miterator\u001b[0m\u001b[1;33m:\u001b[0m\u001b[1;33m\u001b[0m\u001b[1;33m\u001b[0m\u001b[0m\n",
      "\u001b[1;32m~\\anaconda3\\lib\\site-packages\\pandas\\io\\parsers\\readers.py\u001b[0m in \u001b[0;36m__init__\u001b[1;34m(self, f, engine, **kwds)\u001b[0m\n\u001b[0;32m   1440\u001b[0m \u001b[1;33m\u001b[0m\u001b[0m\n\u001b[0;32m   1441\u001b[0m         \u001b[0mself\u001b[0m\u001b[1;33m.\u001b[0m\u001b[0mhandles\u001b[0m\u001b[1;33m:\u001b[0m \u001b[0mIOHandles\u001b[0m \u001b[1;33m|\u001b[0m \u001b[1;32mNone\u001b[0m \u001b[1;33m=\u001b[0m \u001b[1;32mNone\u001b[0m\u001b[1;33m\u001b[0m\u001b[1;33m\u001b[0m\u001b[0m\n\u001b[1;32m-> 1442\u001b[1;33m         \u001b[0mself\u001b[0m\u001b[1;33m.\u001b[0m\u001b[0m_engine\u001b[0m \u001b[1;33m=\u001b[0m \u001b[0mself\u001b[0m\u001b[1;33m.\u001b[0m\u001b[0m_make_engine\u001b[0m\u001b[1;33m(\u001b[0m\u001b[0mf\u001b[0m\u001b[1;33m,\u001b[0m \u001b[0mself\u001b[0m\u001b[1;33m.\u001b[0m\u001b[0mengine\u001b[0m\u001b[1;33m)\u001b[0m\u001b[1;33m\u001b[0m\u001b[1;33m\u001b[0m\u001b[0m\n\u001b[0m\u001b[0;32m   1443\u001b[0m \u001b[1;33m\u001b[0m\u001b[0m\n\u001b[0;32m   1444\u001b[0m     \u001b[1;32mdef\u001b[0m \u001b[0mclose\u001b[0m\u001b[1;33m(\u001b[0m\u001b[0mself\u001b[0m\u001b[1;33m)\u001b[0m \u001b[1;33m->\u001b[0m \u001b[1;32mNone\u001b[0m\u001b[1;33m:\u001b[0m\u001b[1;33m\u001b[0m\u001b[1;33m\u001b[0m\u001b[0m\n",
      "\u001b[1;32m~\\anaconda3\\lib\\site-packages\\pandas\\io\\parsers\\readers.py\u001b[0m in \u001b[0;36m_make_engine\u001b[1;34m(self, f, engine)\u001b[0m\n\u001b[0;32m   1733\u001b[0m                 \u001b[1;32mif\u001b[0m \u001b[1;34m\"b\"\u001b[0m \u001b[1;32mnot\u001b[0m \u001b[1;32min\u001b[0m \u001b[0mmode\u001b[0m\u001b[1;33m:\u001b[0m\u001b[1;33m\u001b[0m\u001b[1;33m\u001b[0m\u001b[0m\n\u001b[0;32m   1734\u001b[0m                     \u001b[0mmode\u001b[0m \u001b[1;33m+=\u001b[0m \u001b[1;34m\"b\"\u001b[0m\u001b[1;33m\u001b[0m\u001b[1;33m\u001b[0m\u001b[0m\n\u001b[1;32m-> 1735\u001b[1;33m             self.handles = get_handle(\n\u001b[0m\u001b[0;32m   1736\u001b[0m                 \u001b[0mf\u001b[0m\u001b[1;33m,\u001b[0m\u001b[1;33m\u001b[0m\u001b[1;33m\u001b[0m\u001b[0m\n\u001b[0;32m   1737\u001b[0m                 \u001b[0mmode\u001b[0m\u001b[1;33m,\u001b[0m\u001b[1;33m\u001b[0m\u001b[1;33m\u001b[0m\u001b[0m\n",
      "\u001b[1;32m~\\anaconda3\\lib\\site-packages\\pandas\\io\\common.py\u001b[0m in \u001b[0;36mget_handle\u001b[1;34m(path_or_buf, mode, encoding, compression, memory_map, is_text, errors, storage_options)\u001b[0m\n\u001b[0;32m    854\u001b[0m         \u001b[1;32mif\u001b[0m \u001b[0mioargs\u001b[0m\u001b[1;33m.\u001b[0m\u001b[0mencoding\u001b[0m \u001b[1;32mand\u001b[0m \u001b[1;34m\"b\"\u001b[0m \u001b[1;32mnot\u001b[0m \u001b[1;32min\u001b[0m \u001b[0mioargs\u001b[0m\u001b[1;33m.\u001b[0m\u001b[0mmode\u001b[0m\u001b[1;33m:\u001b[0m\u001b[1;33m\u001b[0m\u001b[1;33m\u001b[0m\u001b[0m\n\u001b[0;32m    855\u001b[0m             \u001b[1;31m# Encoding\u001b[0m\u001b[1;33m\u001b[0m\u001b[1;33m\u001b[0m\u001b[1;33m\u001b[0m\u001b[0m\n\u001b[1;32m--> 856\u001b[1;33m             handle = open(\n\u001b[0m\u001b[0;32m    857\u001b[0m                 \u001b[0mhandle\u001b[0m\u001b[1;33m,\u001b[0m\u001b[1;33m\u001b[0m\u001b[1;33m\u001b[0m\u001b[0m\n\u001b[0;32m    858\u001b[0m                 \u001b[0mioargs\u001b[0m\u001b[1;33m.\u001b[0m\u001b[0mmode\u001b[0m\u001b[1;33m,\u001b[0m\u001b[1;33m\u001b[0m\u001b[1;33m\u001b[0m\u001b[0m\n",
      "\u001b[1;31mFileNotFoundError\u001b[0m: [Errno 2] No such file or directory: 'data/nfl_pass_rush_receive_raw_data.csv'"
     ]
    }
   ],
   "source": [
    "players_df = pd.read_csv('data/nfl_pass_rush_receive_raw_data.csv')"
   ]
  },
  {
   "cell_type": "code",
   "execution_count": null,
   "metadata": {},
   "outputs": [],
   "source": [
    "# add a column for fantasy points\n",
    "players_df['fp_PPR'] = (players_df['pass_yds']*0.04 + players_df['pass_td']*4 \n",
    "                        - players_df['pass_int']*2 + players_df['rush_yds']*0.1 + \n",
    "                        players_df['rush_td']*6 + players_df['rec'] + players_df['rec_yds']*0.1\n",
    "                        + players_df['rec_td']*6 - players_df['fumbles_lost']*2\n",
    "                       )\n",
    "# add a 'usage' column\n",
    "players_df['usage'] = players_df['rush_att'] + players_df['targets']"
   ]
  },
  {
   "cell_type": "code",
   "execution_count": null,
   "metadata": {},
   "outputs": [],
   "source": [
    "# filter out only RBs\n",
    "rb_df = players_df.loc[players_df['pos'] == 'RB']"
   ]
  },
  {
   "cell_type": "code",
   "execution_count": null,
   "metadata": {},
   "outputs": [],
   "source": [
    "# sum data for whole season\n",
    "rb_season = rb_df.groupby(rb_df['player']).aggregate('sum')"
   ]
  },
  {
   "cell_type": "code",
   "execution_count": null,
   "metadata": {},
   "outputs": [],
   "source": [
    "# add a few more columns\n",
    "rb_season['rush_yd/att'] = rb_season['rush_yds'] / rb_season['rush_att']\n",
    "rb_season['rec_yd/att'] = rb_season['rec_yds'] / rb_season['rec']\n",
    "rb_season['yds/usage'] = (rb_season['rush_yds'] + rb_season['rec_yds']) / rb_season['usage']\n",
    "rb_season['td/usage'] = (rb_season['rush_td'] + rb_season['rec_td']) / rb_season['usage']"
   ]
  },
  {
   "cell_type": "markdown",
   "metadata": {},
   "source": [
    "# Choose 5 Variables"
   ]
  },
  {
   "cell_type": "code",
   "execution_count": null,
   "metadata": {},
   "outputs": [],
   "source": [
    "# 5 variables to use\n",
    "points = rb_season['fp_PPR']\n",
    "yards = rb_season['rush_yds'] + rb_season['rec_yds']\n",
    "tds = rb_season['rush_td'] + rb_season['rec_td']\n",
    "usage = rb_season['rush_att'] + rb_season['targets']\n",
    "pass_rush_diff = rb_season['targets'] - rb_season['rush_att']"
   ]
  },
  {
   "cell_type": "markdown",
   "metadata": {},
   "source": [
    "The 5 variables I've chosen are total fantasy football points, total yards, touchdowns, usage, and the difference between passes thrown to and rushes attempted by a player. I'll explain these variables in detail:\n",
    "\n",
    "Points: Total fantasy football points. Equal to a linear combination of yards, touchdowns, and receptions.\n",
    "\n",
    "Yards: Sum of rushing and recieving yards.\n",
    "\n",
    "Touchdowns: Sum of rushing and recieving touchdowns.\n",
    "\n",
    "Usage: Total passes thrown to plus rushes attempted.\n",
    "\n",
    "Pass/rush difference: Total passes thrown to  MINUS rushes attempted.\n",
    "\n",
    "I've chosen these variables for the following reasons. Fantasy points is the most important statistic in the game: ultimately that is the metric upon which you judge a player's success. Yards and touchdowns are COMPONENTS of fantasy point, and are highly important in determining a player's success. Usage is not directly related to fantasy points, but is commonly thought of as an important predictor in a players performance. The last variable I've chosen is a way to separarate running backs in to categories based on how much they recieve vs how much they run the ball."
   ]
  },
  {
   "cell_type": "markdown",
   "metadata": {},
   "source": [
    "# Histograms and Descriptive Statistics"
   ]
  },
  {
   "cell_type": "markdown",
   "metadata": {},
   "source": [
    "Here we will visualize the distributions of each variable and compute their mean, median, and standard deviations."
   ]
  },
  {
   "cell_type": "code",
   "execution_count": null,
   "metadata": {},
   "outputs": [],
   "source": [
    "# histogram of each variable\n",
    "plt.hist(points, bins = 30)\n",
    "plt.title('Total Fantasy Points Scored Histogram')\n",
    "plt.xlabel('Points')\n",
    "plt.ylabel('Count')\n",
    "plt.show()\n",
    "print('Mean: {}'.format(np.mean(points)))\n",
    "print('Median: {}'.format(np.median(points)))\n",
    "print('Standard Deviation: {}'.format(np.std(points)))"
   ]
  },
  {
   "cell_type": "code",
   "execution_count": null,
   "metadata": {},
   "outputs": [],
   "source": [
    "# histogram of each variable\n",
    "plt.hist(yards, bins = 30)\n",
    "plt.title('Total Yards Gained Histogram')\n",
    "plt.xlabel('Yards')\n",
    "plt.ylabel('Count')\n",
    "plt.show()\n",
    "print('Mean: {}'.format(np.mean(yards)))\n",
    "print('Median: {}'.format(np.median(yards)))\n",
    "print('Standard Deviation: {}'.format(np.std(yards)))"
   ]
  },
  {
   "cell_type": "code",
   "execution_count": null,
   "metadata": {},
   "outputs": [],
   "source": [
    "# histogram of each variable\n",
    "plt.hist(tds, bins = 15)\n",
    "plt.title('Total TDs Scored Histogram')\n",
    "plt.xlabel('TDs')\n",
    "plt.ylabel('Count')\n",
    "plt.show()\n",
    "print('Mean: {}'.format(np.mean(tds)))\n",
    "print('Median: {}'.format(np.median(tds)))\n",
    "print('Standard Deviation: {}'.format(np.std(tds)))"
   ]
  },
  {
   "cell_type": "code",
   "execution_count": null,
   "metadata": {},
   "outputs": [],
   "source": [
    "# histogram of each variable\n",
    "plt.hist(usage, bins = 30)\n",
    "plt.title('Total Usage Histogram')\n",
    "plt.xlabel('Usage')\n",
    "plt.ylabel('Count')\n",
    "plt.show()\n",
    "print('Mean: {}'.format(np.mean(usage)))\n",
    "print('Median: {}'.format(np.median(usage)))\n",
    "print('Standard Deviation: {}'.format(np.std(usage)))"
   ]
  },
  {
   "cell_type": "code",
   "execution_count": null,
   "metadata": {},
   "outputs": [],
   "source": [
    "# histogram of each variable\n",
    "plt.hist(pass_rush_diff, bins = 30)\n",
    "plt.title('Targets to Rush Difference Histogram')\n",
    "plt.xlabel('Targets - Rushes')\n",
    "plt.ylabel('Count')\n",
    "plt.show()\n",
    "print('Mean: {}'.format(np.mean(pass_rush_diff)))\n",
    "print('Median: {}'.format(np.median(pass_rush_diff)))\n",
    "print('Standard Deviation: {}'.format(np.std(pass_rush_diff)))"
   ]
  },
  {
   "cell_type": "markdown",
   "metadata": {},
   "source": [
    "# PMF Comparison of Two Scenarios"
   ]
  },
  {
   "cell_type": "markdown",
   "metadata": {},
   "source": [
    "Here I will compare two groups of running backs: Those who tend to recieve more passes, and those who run the ball more. I will split the groups up 50-50, by finding the median and dividing it there. We will look at the distribution of fantasy points for each group."
   ]
  },
  {
   "cell_type": "code",
   "execution_count": null,
   "metadata": {},
   "outputs": [],
   "source": [
    "# filter based on a variable\n",
    "# going to filter who has more targets than rushes, and look at points\n",
    "\n",
    "med = np.median(pass_rush_diff)\n",
    "more_targets = rb_season['fp_PPR'][list(pass_rush_diff>med)]\n",
    "more_rushes = rb_season['fp_PPR'][list(pass_rush_diff<=med)]"
   ]
  },
  {
   "cell_type": "code",
   "execution_count": null,
   "metadata": {},
   "outputs": [],
   "source": [
    "plt.hist(more_targets, bins=10, alpha=0.5, density=True, label='More Recieving Targets')\n",
    "plt.hist(more_rushes, bins=10, alpha=0.5, density=True, label='More Rushing Attempts')\n",
    "plt.legend()\n",
    "plt.title('Total Fantasty Points Comparison')\n",
    "plt.xlabel('Fantasy Points')\n",
    "plt.ylabel('Probability')\n",
    "plt.show()"
   ]
  },
  {
   "cell_type": "markdown",
   "metadata": {},
   "source": [
    "Visually, we can see that the group that tends to rush more than they recieve is more successful. Running backs that are capable of recieving are often viewed as valuable, but this illustrates that you still need to have a profficient run game to be successful."
   ]
  },
  {
   "cell_type": "markdown",
   "metadata": {},
   "source": [
    "# CDF of Total Fantasy Points and Usage"
   ]
  },
  {
   "cell_type": "markdown",
   "metadata": {},
   "source": [
    "We will look at the CDF of two variables: total fantasy points and usage."
   ]
  },
  {
   "cell_type": "code",
   "execution_count": null,
   "metadata": {},
   "outputs": [],
   "source": [
    "#CDF of points\n",
    "points_sorted = np.sort(np.array(points))\n",
    "cdf_range = range(len(points_sorted))\n",
    "cdf_range = np.array(cdf_range)\n",
    "cdf_range = cdf_range/max(cdf_range)"
   ]
  },
  {
   "cell_type": "code",
   "execution_count": null,
   "metadata": {},
   "outputs": [],
   "source": [
    "plt.plot(points_sorted, cdf_range)\n",
    "plt.title('CDF of Total Fantasy Points')\n",
    "plt.xlabel('Points')\n",
    "plt.ylabel('Probability')\n",
    "plt.show()"
   ]
  },
  {
   "cell_type": "code",
   "execution_count": null,
   "metadata": {},
   "outputs": [],
   "source": [
    "#CDF of usage\n",
    "usage_sorted = np.sort(np.array(usage))\n",
    "cdf_range = range(len(usage))\n",
    "cdf_range = np.array(cdf_range)\n",
    "cdf_range = cdf_range/max(cdf_range)\n",
    "\n",
    "plt.plot(usage_sorted, cdf_range)\n",
    "plt.title('CDF of Total Usage')\n",
    "plt.xlabel('Usage')\n",
    "plt.ylabel('Probability')\n",
    "plt.show()"
   ]
  },
  {
   "cell_type": "markdown",
   "metadata": {},
   "source": [
    "These two variables share something in common. Both are disproportionally skewed to having few players get most of the points, and most of the usage. Looking at the 0.5 probability mark, we have both points and usage at almost 1/6th of their maximum value. The commonly held intuition is that good running backs in the league are scarce. This is shown by the CDFs here.\n",
    "\n",
    "This distribution seems to be similar to the pareto distribution, so we will attempt to model it off of that. We will choose to model usage, but we could just as easily model fantasy points using that as well."
   ]
  },
  {
   "cell_type": "markdown",
   "metadata": {},
   "source": [
    "# Analytical Model"
   ]
  },
  {
   "cell_type": "markdown",
   "metadata": {},
   "source": [
    "The pareto distribution requires a minimum value. We will choose to set our minimum usage to 50. This will have the added benefit of not including those players who get no usage at all, and are on the whole considered irrelevant."
   ]
  },
  {
   "cell_type": "code",
   "execution_count": null,
   "metadata": {},
   "outputs": [],
   "source": [
    "usage_sorted = np.sort(np.array(usage))\n",
    "usage_sorted = usage_sorted[np.where(usage_sorted >= 50)]\n",
    "cdf_range = range(len(usage_sorted))\n",
    "cdf_range = np.array(cdf_range)\n",
    "cdf_range = cdf_range/max(cdf_range)"
   ]
  },
  {
   "cell_type": "code",
   "execution_count": null,
   "metadata": {},
   "outputs": [],
   "source": [
    "mean_usage = np.mean(usage_sorted)\n",
    "xm = 50\n",
    "alpha = 1 / np.log(mean_usage/xm)"
   ]
  },
  {
   "cell_type": "code",
   "execution_count": null,
   "metadata": {},
   "outputs": [],
   "source": [
    "paretoo = stats.pareto(b=alpha, scale=xm)"
   ]
  },
  {
   "cell_type": "code",
   "execution_count": null,
   "metadata": {},
   "outputs": [],
   "source": [
    "# plot the cdf of the pareto distribution\n",
    "x = np.linspace(50,500,100)\n",
    "plt.plot(x, paretoo.cdf(x), label = 'Pareto')\n",
    "\n",
    "\n",
    "# plot over cdf\n",
    "plt.plot(usage_sorted, cdf_range, label = 'Data')\n",
    "plt.title('CDF of Total Usage')\n",
    "plt.xlabel('Usage')\n",
    "plt.ylabel('Probability')\n",
    "plt.legend()\n",
    "plt.show()\n",
    "\n",
    "# plot residuals\n",
    "plt.plot(cdf_range - paretoo.cdf(usage_sorted))\n",
    "plt.title('Residuals')\n",
    "plt.xlabel('Index')\n",
    "plt.ylabel('Residual')\n",
    "plt.show()"
   ]
  },
  {
   "cell_type": "markdown",
   "metadata": {},
   "source": [
    "The distribution here is not quite pareto. The residuals are not normally distributed and look to have some autocorrelation. Visually, it's a much straighter line than the pareto distribution. It's likely there is no clean distribution to which it fits."
   ]
  },
  {
   "cell_type": "markdown",
   "metadata": {},
   "source": [
    "# Scatter Plot - Correlation and Causation"
   ]
  },
  {
   "cell_type": "markdown",
   "metadata": {},
   "source": [
    "We can now test the correlation between usage and points!"
   ]
  },
  {
   "cell_type": "code",
   "execution_count": null,
   "metadata": {},
   "outputs": [],
   "source": [
    "# scatter plot usage and points\n",
    "plt.scatter(usage,points)\n",
    "plt.title('Usage vs Points')\n",
    "plt.xlabel('Usage')\n",
    "plt.ylabel('Points')\n",
    "plt.show()\n",
    "\n",
    "# Relational Statistics\n",
    "r = stats.pearsonr(usage,points)[0]\n",
    "print('Pearson r: {}'.format(stats.pearsonr(usage,points)[0]))\n",
    "print('R^2: {}'.format(r**2))"
   ]
  },
  {
   "cell_type": "markdown",
   "metadata": {},
   "source": [
    "It turns out that usage and total fantasy points have a very high correlation, despite not being directly and mathematically related like other variables. This intuitively makes sense: the more you give your player opportunities, the more he will produce yards and touchdowns. This might make us think the usage causes more fantasy points, but the causation might run both ways too. If a player is producing lots of yards/touchdowns, you might be tempted to give him the ball some more. We can test that hypothesis in the next section!"
   ]
  },
  {
   "cell_type": "markdown",
   "metadata": {},
   "source": [
    "# Hypothesis Test"
   ]
  },
  {
   "cell_type": "markdown",
   "metadata": {},
   "source": [
    "We can test how efficiency relates to the amount of usage a player gets. We will use total fantasy points divided by usage as our measure of efficiency."
   ]
  },
  {
   "cell_type": "code",
   "execution_count": null,
   "metadata": {},
   "outputs": [],
   "source": [
    "np.where(np.array(usage) > 20)"
   ]
  },
  {
   "cell_type": "code",
   "execution_count": null,
   "metadata": {},
   "outputs": [],
   "source": [
    "# hypothesis test\n",
    "players = rb_season[rb_season['usage']>50]\n",
    "use = players['rush_att'] + players['targets']\n",
    "efficiency = players['fp_PPR'] / (players['rush_att'] + players['targets'])"
   ]
  },
  {
   "cell_type": "code",
   "execution_count": null,
   "metadata": {},
   "outputs": [],
   "source": [
    "# test for correlation\n",
    "corr = stats.pearsonr(efficiency, use)[0]\n",
    "corr"
   ]
  },
  {
   "cell_type": "markdown",
   "metadata": {},
   "source": [
    "Here we have a low positive correlation between efficiency and usage. We can plot it, then test if it is significant."
   ]
  },
  {
   "cell_type": "code",
   "execution_count": null,
   "metadata": {},
   "outputs": [],
   "source": [
    "plt.scatter(efficiency, use)\n",
    "plt.title('Efficiency vs Usage')\n",
    "plt.xlabel('Points per Usage')\n",
    "plt.ylabel('Usage')\n",
    "plt.show()"
   ]
  },
  {
   "cell_type": "code",
   "execution_count": null,
   "metadata": {},
   "outputs": [],
   "source": [
    "# test\n",
    "iters = 1000\n",
    "shuffle = np.array(use)\n",
    "count = 0\n",
    "for _ in range(iters):\n",
    "    np.random.shuffle(shuffle)\n",
    "    new_corr = stats.pearsonr(shuffle, efficiency)[0]\n",
    "    if new_corr > corr:\n",
    "        count += 1\n",
    "        \n",
    "print(count/iters)\n",
    "        "
   ]
  },
  {
   "cell_type": "markdown",
   "metadata": {},
   "source": [
    "A p-value of 0.24 shows that this isn't significant. We can't reject the null hypothesis that efficiency and usage are unrelated."
   ]
  },
  {
   "cell_type": "markdown",
   "metadata": {},
   "source": [
    "# Regression Analysis"
   ]
  },
  {
   "cell_type": "markdown",
   "metadata": {},
   "source": [
    "Here we will do a linear regression on each of the variables that contributes to the total fantasy points. The aim of this will be to compare R^2 values to find out, in practice, which variable is the best predictor for total fantasy points."
   ]
  },
  {
   "cell_type": "code",
   "execution_count": null,
   "metadata": {},
   "outputs": [],
   "source": [
    "# Yards\n",
    "reg = LinearRegression().fit(rb_season[['rush_yds', 'rec_yds']], points)\n",
    "reg.score(rb_season[['rush_yds', 'rec_yds']], points)"
   ]
  },
  {
   "cell_type": "code",
   "execution_count": null,
   "metadata": {},
   "outputs": [],
   "source": [
    "# Touchdowns\n",
    "reg = LinearRegression().fit(rb_season[['rush_td', 'rec_td']], points)\n",
    "reg.score(rb_season[['rush_td', 'rec_td']], points)"
   ]
  },
  {
   "cell_type": "code",
   "execution_count": null,
   "metadata": {},
   "outputs": [],
   "source": [
    "# Receptions\n",
    "reg = LinearRegression().fit(rb_season[['rec']], points)\n",
    "reg.score(rb_season[['rec']], points)"
   ]
  },
  {
   "cell_type": "markdown",
   "metadata": {},
   "source": [
    "Yards has an R^2 of 0.98, while touchdowns has an R^2 of 0.85 and receptions a R^2 of 0.80. We expect these all to have high R^2 of course, because they are related by a mathematical function. However, that alone does not tell us in practice where most of the fantasy points come from. This analysis gives us the idea that yardage is the best predictor of total fantasy points. We should also note that these variables are likely correlated, but that shouldn't change our interpretation since the regression's were done separately."
   ]
  },
  {
   "cell_type": "markdown",
   "metadata": {},
   "source": [
    "# Concluding Thoughts\n",
    "\n",
    "We dug into some data surrounding running backs in fantasy football. We looked how their points, yards, touchdowns, and usage statistics were distributed. Then, we broke the running backs into two groups to look for major differences. After that, we computed a CDF for some variables and attempted to fit it to an analytical function. Turns out, fantasy football data is messy! We attempted to find correlation with hopes of getting an insight into causation regarding usage and total points, and we found a very strong correlation. This motivated us to do a hypothesis test related to effecience of point scoring, and were not able to reject the null hypothesis. Finally, we did a regression analysis and found yards gained as the strongest explainer of fantasy points of any of the other mathematically-related variables.\n",
    "\n",
    "This analysis was exploratory in nature. From this, we gained insight into running backs performance is distributed, and what ultimately relates to their success. Thanks for reading."
   ]
  },
  {
   "cell_type": "code",
   "execution_count": null,
   "metadata": {},
   "outputs": [],
   "source": []
  }
 ],
 "metadata": {
  "kernelspec": {
   "display_name": "Python 3",
   "language": "python",
   "name": "python3"
  },
  "language_info": {
   "codemirror_mode": {
    "name": "ipython",
    "version": 3
   },
   "file_extension": ".py",
   "mimetype": "text/x-python",
   "name": "python",
   "nbconvert_exporter": "python",
   "pygments_lexer": "ipython3",
   "version": "3.8.5"
  }
 },
 "nbformat": 4,
 "nbformat_minor": 4
}
