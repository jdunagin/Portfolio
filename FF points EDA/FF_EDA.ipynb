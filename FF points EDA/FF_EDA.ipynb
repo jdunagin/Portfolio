{
 "cells": [
  {
   "cell_type": "markdown",
   "metadata": {},
   "source": [
    "# Fantasy Football EDA"
   ]
  },
  {
   "cell_type": "markdown",
   "metadata": {},
   "source": [
    "# Introduction\n",
    "\n",
    "The goal of this project will be to analyze fantasy football data. Specifically, we will look at running back data from the 2021 NFL season. The motivation is that running back is the most valuable position in fantasy football, and we want to look at what makes them successful. How are their statistics distributed? What variables are related to their success? What are the best predictors? We will explore questions of this nature as we dig into the data."
   ]
  },
  {
   "cell_type": "code",
   "execution_count": 1,
   "metadata": {},
   "outputs": [],
   "source": [
    "import numpy as np\n",
    "import pandas as pd\n",
    "import matplotlib.pyplot as plt\n",
    "from sklearn.linear_model import LinearRegression\n",
    "from scipy import stats"
   ]
  },
  {
   "cell_type": "code",
   "execution_count": 2,
   "metadata": {},
   "outputs": [],
   "source": [
    "players_df = pd.read_csv('data/nfl_pass_rush_receive_raw_data.csv')"
   ]
  },
  {
   "cell_type": "code",
   "execution_count": 3,
   "metadata": {},
   "outputs": [],
   "source": [
    "# add a column for fantasy points\n",
    "players_df['fp_PPR'] = (players_df['pass_yds']*0.04 + players_df['pass_td']*4 \n",
    "                        - players_df['pass_int']*2 + players_df['rush_yds']*0.1 + \n",
    "                        players_df['rush_td']*6 + players_df['rec'] + players_df['rec_yds']*0.1\n",
    "                        + players_df['rec_td']*6 - players_df['fumbles_lost']*2\n",
    "                       )\n",
    "# add a 'usage' column\n",
    "players_df['usage'] = players_df['rush_att'] + players_df['targets']"
   ]
  },
  {
   "cell_type": "code",
   "execution_count": 4,
   "metadata": {},
   "outputs": [],
   "source": [
    "# filter out only RBs\n",
    "rb_df = players_df.loc[players_df['pos'] == 'RB']"
   ]
  },
  {
   "cell_type": "code",
   "execution_count": 5,
   "metadata": {},
   "outputs": [],
   "source": [
    "# sum data for whole season\n",
    "rb_season = rb_df.groupby(rb_df['player']).aggregate('sum')"
   ]
  },
  {
   "cell_type": "code",
   "execution_count": 6,
   "metadata": {},
   "outputs": [],
   "source": [
    "# add a few more columns\n",
    "rb_season['rush_yd/att'] = rb_season['rush_yds'] / rb_season['rush_att']\n",
    "rb_season['rec_yd/att'] = rb_season['rec_yds'] / rb_season['rec']\n",
    "rb_season['yds/usage'] = (rb_season['rush_yds'] + rb_season['rec_yds']) / rb_season['usage']\n",
    "rb_season['td/usage'] = (rb_season['rush_td'] + rb_season['rec_td']) / rb_season['usage']"
   ]
  },
  {
   "cell_type": "markdown",
   "metadata": {},
   "source": [
    "# Choose 5 Variables"
   ]
  },
  {
   "cell_type": "code",
   "execution_count": 7,
   "metadata": {},
   "outputs": [],
   "source": [
    "# 5 variables to use\n",
    "points = rb_season['fp_PPR']\n",
    "yards = rb_season['rush_yds'] + rb_season['rec_yds']\n",
    "tds = rb_season['rush_td'] + rb_season['rec_td']\n",
    "usage = rb_season['rush_att'] + rb_season['targets']\n",
    "pass_rush_diff = rb_season['targets'] - rb_season['rush_att']"
   ]
  },
  {
   "cell_type": "markdown",
   "metadata": {},
   "source": [
    "The 5 variables I've chosen are total fantasy football points, total yards, touchdowns, usage, and the difference between passes thrown to and rushes attempted by a player. I'll explain these variables in detail:\n",
    "\n",
    "Points: Total fantasy football points. Equal to a linear combination of yards, touchdowns, and receptions.\n",
    "\n",
    "Yards: Sum of rushing and recieving yards.\n",
    "\n",
    "Touchdowns: Sum of rushing and recieving touchdowns.\n",
    "\n",
    "Usage: Total passes thrown to plus rushes attempted.\n",
    "\n",
    "Pass/rush difference: Total passes thrown to  MINUS rushes attempted.\n",
    "\n",
    "I've chosen these variables for the following reasons. Fantasy points is the most important statistic in the game: ultimately that is the metric upon which you judge a player's success. Yards and touchdowns are COMPONENTS of fantasy point, and are highly important in determining a player's success. Usage is not directly related to fantasy points, but is commonly thought of as an important predictor in a players performance. The last variable I've chosen is a way to separarate running backs in to categories based on how much they recieve vs how much they run the ball."
   ]
  },
  {
   "cell_type": "markdown",
   "metadata": {},
   "source": [
    "# Histograms and Descriptive Statistics"
   ]
  },
  {
   "cell_type": "markdown",
   "metadata": {},
   "source": [
    "Here we will visualize the distributions of each variable and compute their mean, median, and standard deviations."
   ]
  },
  {
   "cell_type": "code",
   "execution_count": 8,
   "metadata": {},
   "outputs": [
    {
     "data": {
      "image/png": "[encoded data removed]",
      "text/plain": [
       "<Figure size 432x288 with 1 Axes>"
      ]
     },
     "metadata": {
      "needs_background": "light"
     },
     "output_type": "display_data"
    },
    {
     "name": "stdout",
     "output_type": "stream",
     "text": [
      "Mean: 77.94440251572327\n",
      "Median: 49.8\n",
      "Standard Deviation: 82.0717281820078\n"
     ]
    }
   ],
   "source": [
    "# histogram of each variable\n",
    "plt.hist(points, bins = 30)\n",
    "plt.title('Total Fantasy Points Scored Histogram')\n",
    "plt.xlabel('Points')\n",
    "plt.ylabel('Count')\n",
    "plt.show()\n",
    "print('Mean: {}'.format(np.mean(points)))\n",
    "print('Median: {}'.format(np.median(points)))\n",
    "print('Standard Deviation: {}'.format(np.std(points)))"
   ]
  },
  {
   "cell_type": "code",
   "execution_count": 9,
   "metadata": {},
   "outputs": [
    {
     "data": {
      "image/png": "[encoded data removed]",
      "text/plain": [
       "<Figure size 432x288 with 1 Axes>"
      ]
     },
     "metadata": {
      "needs_background": "light"
     },
     "output_type": "display_data"
    },
    {
     "name": "stdout",
     "output_type": "stream",
     "text": [
      "Mean: 440.17610062893084\n",
      "Median: 267.0\n",
      "Standard Deviation: 456.4951319198879\n"
     ]
    }
   ],
   "source": [
    "# histogram of each variable\n",
    "plt.hist(yards, bins = 30)\n",
    "plt.title('Total Yards Gained Histogram')\n",
    "plt.xlabel('Yards')\n",
    "plt.ylabel('Count')\n",
    "plt.show()\n",
    "print('Mean: {}'.format(np.mean(yards)))\n",
    "print('Median: {}'.format(np.median(yards)))\n",
    "print('Standard Deviation: {}'.format(np.std(yards)))"
   ]
  },
  {
   "cell_type": "code",
   "execution_count": 10,
   "metadata": {},
   "outputs": [
    {
     "data": {
      "image/png": "[encoded data removed]",
      "text/plain": [
       "<Figure size 432x288 with 1 Axes>"
      ]
     },
     "metadata": {
      "needs_background": "light"
     },
     "output_type": "display_data"
    },
    {
     "name": "stdout",
     "output_type": "stream",
     "text": [
      "Mean: 3.0377358490566038\n",
      "Median: 2.0\n",
      "Standard Deviation: 4.001394084821956\n"
     ]
    }
   ],
   "source": [
    "# histogram of each variable\n",
    "plt.hist(tds, bins = 15)\n",
    "plt.title('Total TDs Scored Histogram')\n",
    "plt.xlabel('TDs')\n",
    "plt.ylabel('Count')\n",
    "plt.show()\n",
    "print('Mean: {}'.format(np.mean(tds)))\n",
    "print('Median: {}'.format(np.median(tds)))\n",
    "print('Standard Deviation: {}'.format(np.std(tds)))"
   ]
  },
  {
   "cell_type": "code",
   "execution_count": 11,
   "metadata": {},
   "outputs": [
    {
     "data": {
      "image/png": "[encoded data removed]",
      "text/plain": [
       "<Figure size 432x288 with 1 Axes>"
      ]
     },
     "metadata": {
      "needs_background": "light"
     },
     "output_type": "display_data"
    },
    {
     "name": "stdout",
     "output_type": "stream",
     "text": [
      "Mean: 95.43396226415095\n",
      "Median: 62.0\n",
      "Standard Deviation: 96.61005900346332\n"
     ]
    }
   ],
   "source": [
    "# histogram of each variable\n",
    "plt.hist(usage, bins = 30)\n",
    "plt.title('Total Usage Histogram')\n",
    "plt.xlabel('Usage')\n",
    "plt.ylabel('Count')\n",
    "plt.show()\n",
    "print('Mean: {}'.format(np.mean(usage)))\n",
    "print('Median: {}'.format(np.median(usage)))\n",
    "print('Standard Deviation: {}'.format(np.std(usage)))"
   ]
  },
  {
   "cell_type": "code",
   "execution_count": 12,
   "metadata": {},
   "outputs": [
    {
     "data": {
      "image/png": "[encoded data removed]",
      "text/plain": [
       "<Figure size 432x288 with 1 Axes>"
      ]
     },
     "metadata": {
      "needs_background": "light"
     },
     "output_type": "display_data"
    },
    {
     "name": "stdout",
     "output_type": "stream",
     "text": [
      "Mean: -52.84276729559748\n",
      "Median: -26.0\n",
      "Standard Deviation: 62.88759410021297\n"
     ]
    }
   ],
   "source": [
    "# histogram of each variable\n",
    "plt.hist(pass_rush_diff, bins = 30)\n",
    "plt.title('Targets to Rush Difference Histogram')\n",
    "plt.xlabel('Targets - Rushes')\n",
    "plt.ylabel('Count')\n",
    "plt.show()\n",
    "print('Mean: {}'.format(np.mean(pass_rush_diff)))\n",
    "print('Median: {}'.format(np.median(pass_rush_diff)))\n",
    "print('Standard Deviation: {}'.format(np.std(pass_rush_diff)))"
   ]
  },
  {
   "cell_type": "markdown",
   "metadata": {},
   "source": [
    "# PMF Comparison of Two Scenarios"
   ]
  },
  {
   "cell_type": "markdown",
   "metadata": {},
   "source": [
    "Here I will compare two groups of running backs: Those who tend to recieve more passes, and those who run the ball more. I will split the groups up 50-50, by finding the median and dividing it there. We will look at the distribution of fantasy points for each group."
   ]
  },
  {
   "cell_type": "code",
   "execution_count": 13,
   "metadata": {},
   "outputs": [],
   "source": [
    "# filter based on a variable\n",
    "# going to filter who has more targets than rushes, and look at points\n",
    "\n",
    "med = np.median(pass_rush_diff)\n",
    "more_targets = rb_season['fp_PPR'][list(pass_rush_diff>med)]\n",
    "more_rushes = rb_season['fp_PPR'][list(pass_rush_diff<=med)]"
   ]
  },
  {
   "cell_type": "code",
   "execution_count": 14,
   "metadata": {},
   "outputs": [
    {
     "data": {
      "image/png": "[encoded data removed]",
      "text/plain": [
       "<Figure size 432x288 with 1 Axes>"
      ]
     },
     "metadata": {
      "needs_background": "light"
     },
     "output_type": "display_data"
    }
   ],
   "source": [
    "plt.hist(more_targets, bins=10, alpha=0.5, density=True, label='More Recieving Targets')\n",
    "plt.hist(more_rushes, bins=10, alpha=0.5, density=True, label='More Rushing Attempts')\n",
    "plt.legend()\n",
    "plt.title('Total Fantasty Points Comparison')\n",
    "plt.xlabel('Fantasy Points')\n",
    "plt.ylabel('Probability')\n",
    "plt.show()"
   ]
  },
  {
   "cell_type": "markdown",
   "metadata": {},
   "source": [
    "Visually, we can see that the group that tends to rush more than they recieve is more successful. Running backs that are capable of recieving are often viewed as valuable, but this illustrates that you still need to have a profficient run game to be successful."
   ]
  },
  {
   "cell_type": "markdown",
   "metadata": {},
   "source": [
    "# CDF of Total Fantasy Points and Usage"
   ]
  },
  {
   "cell_type": "markdown",
   "metadata": {},
   "source": [
    "We will look at the CDF of two variables: total fantasy points and usage."
   ]
  },
  {
   "cell_type": "code",
   "execution_count": 15,
   "metadata": {},
   "outputs": [],
   "source": [
    "#CDF of points\n",
    "points_sorted = np.sort(np.array(points))\n",
    "cdf_range = range(len(points_sorted))\n",
    "cdf_range = np.array(cdf_range)\n",
    "cdf_range = cdf_range/max(cdf_range)"
   ]
  },
  {
   "cell_type": "code",
   "execution_count": 16,
   "metadata": {},
   "outputs": [
    {
     "data": {
      "image/png": "[encoded data removed]",
      "text/plain": [
       "<Figure size 432x288 with 1 Axes>"
      ]
     },
     "metadata": {
      "needs_background": "light"
     },
     "output_type": "display_data"
    }
   ],
   "source": [
    "plt.plot(points_sorted, cdf_range)\n",
    "plt.title('CDF of Total Fantasy Points')\n",
    "plt.xlabel('Points')\n",
    "plt.ylabel('Probability')\n",
    "plt.show()"
   ]
  },
  {
   "cell_type": "code",
   "execution_count": 17,
   "metadata": {},
   "outputs": [
    {
     "data": {
      "image/png": "[encoded data removed]",
      "text/plain": [
       "<Figure size 432x288 with 1 Axes>"
      ]
     },
     "metadata": {
      "needs_background": "light"
     },
     "output_type": "display_data"
    }
   ],
   "source": [
    "#CDF of usage\n",
    "usage_sorted = np.sort(np.array(usage))\n",
    "cdf_range = range(len(usage))\n",
    "cdf_range = np.array(cdf_range)\n",
    "cdf_range = cdf_range/max(cdf_range)\n",
    "\n",
    "plt.plot(usage_sorted, cdf_range)\n",
    "plt.title('CDF of Total Usage')\n",
    "plt.xlabel('Usage')\n",
    "plt.ylabel('Probability')\n",
    "plt.show()"
   ]
  },
  {
   "cell_type": "markdown",
   "metadata": {},
   "source": [
    "These two variables share something in common. Both are disproportionally skewed to having few players get most of the points, and most of the usage. Looking at the 0.5 probability mark, we have both points and usage at almost 1/6th of their maximum value. The commonly held intuition is that good running backs in the league are scarce. This is shown by the CDFs here.\n",
    "\n",
    "This distribution seems to be similar to the pareto distribution, so we will attempt to model it off of that. We will choose to model usage, but we could just as easily model fantasy points using that as well."
   ]
  },
  {
   "cell_type": "markdown",
   "metadata": {},
   "source": [
    "# Analytical Model"
   ]
  },
  {
   "cell_type": "markdown",
   "metadata": {},
   "source": [
    "The pareto distribution requires a minimum value. We will choose to set our minimum usage to 50. This will have the added benefit of not including those players who get no usage at all, and are on the whole considered irrelevant."
   ]
  },
  {
   "cell_type": "code",
   "execution_count": 18,
   "metadata": {},
   "outputs": [],
   "source": [
    "usage_sorted = np.sort(np.array(usage))\n",
    "usage_sorted = usage_sorted[np.where(usage_sorted >= 50)]\n",
    "cdf_range = range(len(usage_sorted))\n",
    "cdf_range = np.array(cdf_range)\n",
    "cdf_range = cdf_range/max(cdf_range)"
   ]
  },
  {
   "cell_type": "code",
   "execution_count": 19,
   "metadata": {},
   "outputs": [],
   "source": [
    "mean_usage = np.mean(usage_sorted)\n",
    "xm = 50\n",
    "alpha = 1 / np.log(mean_usage/xm)"
   ]
  },
  {
   "cell_type": "code",
   "execution_count": 20,
   "metadata": {},
   "outputs": [],
   "source": [
    "paretoo = stats.pareto(b=alpha, scale=xm)"
   ]
  },
  {
   "cell_type": "code",
   "execution_count": 21,
   "metadata": {},
   "outputs": [
    {
     "data": {
      "image/png": "[encoded data removed]",
      "text/plain": [
       "<Figure size 432x288 with 1 Axes>"
      ]
     },
     "metadata": {
      "needs_background": "light"
     },
     "output_type": "display_data"
    },
    {
     "data": {
      "image/png": "[encoded data removed]",
      "text/plain": [
       "<Figure size 432x288 with 1 Axes>"
      ]
     },
     "metadata": {
      "needs_background": "light"
     },
     "output_type": "display_data"
    }
   ],
   "source": [
    "# plot the cdf of the pareto distribution\n",
    "x = np.linspace(50,500,100)\n",
    "plt.plot(x, paretoo.cdf(x), label = 'Pareto')\n",
    "\n",
    "\n",
    "# plot over cdf\n",
    "plt.plot(usage_sorted, cdf_range, label = 'Data')\n",
    "plt.title('CDF of Total Usage')\n",
    "plt.xlabel('Usage')\n",
    "plt.ylabel('Probability')\n",
    "plt.legend()\n",
    "plt.show()\n",
    "\n",
    "# plot residuals\n",
    "plt.plot(cdf_range - paretoo.cdf(usage_sorted))\n",
    "plt.title('Residuals')\n",
    "plt.xlabel('Index')\n",
    "plt.ylabel('Residual')\n",
    "plt.show()"
   ]
  },
  {
   "cell_type": "markdown",
   "metadata": {},
   "source": [
    "The distribution here is not quite pareto. The residuals are not normally distributed and look to have some autocorrelation. Visually, it's a much straighter line than the pareto distribution. It's likely there is no clean distribution to which it fits."
   ]
  },
  {
   "cell_type": "markdown",
   "metadata": {},
   "source": [
    "# Scatter Plot - Correlation and Causation"
   ]
  },
  {
   "cell_type": "markdown",
   "metadata": {},
   "source": [
    "We can now test the correlation between usage and points!"
   ]
  },
  {
   "cell_type": "code",
   "execution_count": 22,
   "metadata": {},
   "outputs": [
    {
     "data": {
      "image/png": "[encoded data removed]",
      "text/plain": [
       "<Figure size 432x288 with 1 Axes>"
      ]
     },
     "metadata": {
      "needs_background": "light"
     },
     "output_type": "display_data"
    },
    {
     "name": "stdout",
     "output_type": "stream",
     "text": [
      "Pearson r: 0.9714841736860684\n",
      "R^2: 0.9437814997225031\n"
     ]
    }
   ],
   "source": [
    "# scatter plot usage and points\n",
    "plt.scatter(usage,points)\n",
    "plt.title('Usage vs Points')\n",
    "plt.xlabel('Usage')\n",
    "plt.ylabel('Points')\n",
    "plt.show()\n",
    "\n",
    "# Relational Statistics\n",
    "r = stats.pearsonr(usage,points)[0]\n",
    "print('Pearson r: {}'.format(stats.pearsonr(usage,points)[0]))\n",
    "print('R^2: {}'.format(r**2))"
   ]
  },
  {
   "cell_type": "markdown",
   "metadata": {},
   "source": [
    "It turns out that usage and total fantasy points have a very high correlation, despite not being directly and mathematically related like other variables. This intuitively makes sense: the more you give your player opportunities, the more he will produce yards and touchdowns. This might make us think the usage causes more fantasy points, but the causation might run both ways too. If a player is producing lots of yards/touchdowns, you might be tempted to give him the ball some more. We can test that hypothesis in the next section!"
   ]
  },
  {
   "cell_type": "markdown",
   "metadata": {},
   "source": [
    "# Hypothesis Test"
   ]
  },
  {
   "cell_type": "markdown",
   "metadata": {},
   "source": [
    "We can test how efficiency relates to the amount of usage a player gets. We will use total fantasy points divided by usage as our measure of efficiency."
   ]
  },
  {
   "cell_type": "code",
   "execution_count": 23,
   "metadata": {},
   "outputs": [
    {
     "data": {
      "text/plain": [
       "(array([  0,   1,   2,   4,   5,   6,   7,   9,  11,  12,  13,  14,  15,\n",
       "         18,  19,  20,  21,  22,  23,  24,  25,  26,  27,  28,  29,  30,\n",
       "         31,  33,  34,  35,  37,  38,  40,  41,  42,  43,  45,  46,  47,\n",
       "         49,  50,  51,  52,  54,  55,  56,  57,  60,  62,  64,  65,  69,\n",
       "         70,  71,  72,  73,  74,  75,  77,  79,  80,  81,  83,  85,  87,\n",
       "         88,  90,  91,  92,  94,  95,  98,  99, 100, 103, 104, 105, 106,\n",
       "        107, 108, 109, 110, 112, 113, 115, 116, 117, 118, 122, 123, 125,\n",
       "        126, 127, 128, 130, 132, 133, 135, 136, 139, 140, 141, 143, 145,\n",
       "        146, 147, 148, 152, 153, 155, 156, 158], dtype=int64),)"
      ]
     },
     "execution_count": 23,
     "metadata": {},
     "output_type": "execute_result"
    }
   ],
   "source": [
    "np.where(np.array(usage) > 20)"
   ]
  },
  {
   "cell_type": "code",
   "execution_count": 24,
   "metadata": {},
   "outputs": [],
   "source": [
    "# hypothesis test\n",
    "players = rb_season[rb_season['usage']>50]\n",
    "use = players['rush_att'] + players['targets']\n",
    "efficiency = players['fp_PPR'] / (players['rush_att'] + players['targets'])"
   ]
  },
  {
   "cell_type": "code",
   "execution_count": 25,
   "metadata": {},
   "outputs": [
    {
     "data": {
      "text/plain": [
       "0.08104727584752791"
      ]
     },
     "execution_count": 25,
     "metadata": {},
     "output_type": "execute_result"
    }
   ],
   "source": [
    "# test for correlation\n",
    "corr = stats.pearsonr(efficiency, use)[0]\n",
    "corr"
   ]
  },
  {
   "cell_type": "markdown",
   "metadata": {},
   "source": [
    "Here we have a low positive correlation between efficiency and usage. We can plot it, then test if it is significant."
   ]
  },
  {
   "cell_type": "code",
   "execution_count": 26,
   "metadata": {},
   "outputs": [
    {
     "data": {
      "image/png": "[encoded data removed]",
      "text/plain": [
       "<Figure size 432x288 with 1 Axes>"
      ]
     },
     "metadata": {
      "needs_background": "light"
     },
     "output_type": "display_data"
    }
   ],
   "source": [
    "plt.scatter(efficiency, use)\n",
    "plt.title('Efficiency vs Usage')\n",
    "plt.xlabel('Points per Usage')\n",
    "plt.ylabel('Usage')\n",
    "plt.show()"
   ]
  },
  {
   "cell_type": "code",
   "execution_count": 27,
   "metadata": {},
   "outputs": [
    {
     "name": "stdout",
     "output_type": "stream",
     "text": [
      "0.243\n"
     ]
    }
   ],
   "source": [
    "# test\n",
    "iters = 1000\n",
    "shuffle = np.array(use)\n",
    "count = 0\n",
    "for _ in range(iters):\n",
    "    np.random.shuffle(shuffle)\n",
    "    new_corr = stats.pearsonr(shuffle, efficiency)[0]\n",
    "    if new_corr > corr:\n",
    "        count += 1\n",
    "        \n",
    "print(count/iters)\n",
    "        "
   ]
  },
  {
   "cell_type": "markdown",
   "metadata": {},
   "source": [
    "A p-value of 0.24 shows that this isn't significant. We can't reject the null hypothesis that efficiency and usage are unrelated."
   ]
  },
  {
   "cell_type": "markdown",
   "metadata": {},
   "source": [
    "# Regression Analysis"
   ]
  },
  {
   "cell_type": "markdown",
   "metadata": {},
   "source": [
    "Here we will do a linear regression on each of the variables that contributes to the total fantasy points. The aim of this will be to compare R^2 values to find out, in practice, which variable is the best predictor for total fantasy points."
   ]
  },
  {
   "cell_type": "code",
   "execution_count": 28,
   "metadata": {},
   "outputs": [
    {
     "data": {
      "text/plain": [
       "0.9804462985321791"
      ]
     },
     "execution_count": 28,
     "metadata": {},
     "output_type": "execute_result"
    }
   ],
   "source": [
    "# Yards\n",
    "reg = LinearRegression().fit(rb_season[['rush_yds', 'rec_yds']], points)\n",
    "reg.score(rb_season[['rush_yds', 'rec_yds']], points)"
   ]
  },
  {
   "cell_type": "code",
   "execution_count": 29,
   "metadata": {},
   "outputs": [
    {
     "data": {
      "text/plain": [
       "0.8563140484245308"
      ]
     },
     "execution_count": 29,
     "metadata": {},
     "output_type": "execute_result"
    }
   ],
   "source": [
    "# Touchdowns\n",
    "reg = LinearRegression().fit(rb_season[['rush_td', 'rec_td']], points)\n",
    "reg.score(rb_season[['rush_td', 'rec_td']], points)"
   ]
  },
  {
   "cell_type": "code",
   "execution_count": 30,
   "metadata": {},
   "outputs": [
    {
     "data": {
      "text/plain": [
       "0.7998986047830968"
      ]
     },
     "execution_count": 30,
     "metadata": {},
     "output_type": "execute_result"
    }
   ],
   "source": [
    "# Receptions\n",
    "reg = LinearRegression().fit(rb_season[['rec']], points)\n",
    "reg.score(rb_season[['rec']], points)"
   ]
  },
  {
   "cell_type": "markdown",
   "metadata": {},
   "source": [
    "Yards has an R^2 of 0.98, while touchdowns has an R^2 of 0.85 and receptions a R^2 of 0.80. We expect these all to have high R^2 of course, because they are related by a mathematical function. However, that alone does not tell us in practice where most of the fantasy points come from. This analysis gives us the idea that yardage is the best predictor of total fantasy points. We should also note that these variables are likely correlated, but that shouldn't change our interpretation since the regression's were done separately."
   ]
  },
  {
   "cell_type": "markdown",
   "metadata": {},
   "source": [
    "# Concluding Thoughts\n",
    "\n",
    "We dug into some data surrounding running backs in fantasy football. We looked how their points, yards, touchdowns, and usage statistics were distributed. Then, we broke the running backs into two groups to look for major differences. After that, we computed a CDF for some variables and attempted to fit it to an analytical function. Turns out, fantasy football data is messy! We attempted to find correlation with hopes of getting an insight into causation regarding usage and total points, and we found a very strong correlation. This motivated us to do a hypothesis test related to effecience of point scoring, and were not able to reject the null hypothesis. Finally, we did a regression analysis and found yards gained as the strongest explainer of fantasy points of any of the other mathematically-related variables.\n",
    "\n",
    "This analysis was exploratory in nature. From this, we gained insight into running backs performance is distributed, and what ultimately relates to their success. Thanks for reading."
   ]
  },
  {
   "cell_type": "code",
   "execution_count": null,
   "metadata": {},
   "outputs": [],
   "source": []
  }
 ],
 "metadata": {
  "kernelspec": {
   "display_name": "Python 3",
   "language": "python",
   "name": "python3"
  },
  "language_info": {
   "codemirror_mode": {
    "name": "ipython",
    "version": 3
   },
   "file_extension": ".py",
   "mimetype": "text/x-python",
   "name": "python",
   "nbconvert_exporter": "python",
   "pygments_lexer": "ipython3",
   "version": "3.8.5"
  }
 },
 "nbformat": 4,
 "nbformat_minor": 4
}
